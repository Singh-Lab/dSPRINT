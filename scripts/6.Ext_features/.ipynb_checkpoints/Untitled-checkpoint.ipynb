{
 "cells": [
  {
   "cell_type": "code",
   "execution_count": 9,
   "metadata": {},
   "outputs": [],
   "source": [
    "import sys\n",
    "sys.path.append('/home/vineetb/git_checkouts/dsprint')"
   ]
  },
  {
   "cell_type": "code",
   "execution_count": 10,
   "metadata": {},
   "outputs": [],
   "source": [
    "import bisect\n",
    "import os\n",
    "import os.path\n",
    "import gzip\n",
    "import sys\n",
    "from concurrent.futures import ThreadPoolExecutor, as_completed\n",
    "import numpy as np\n",
    "\n",
    "from dsprint.core import CHROMOSOMES\n",
    "\n",
    "\n",
    "DIRNAME = '/media/vineetb/t5-vineetb/dsprint/in/hgdownload/hg19/phastCons100way/hg19.100way.phastCons'\n",
    "FILENAME = 'chr4.phastCons100way.wigFix.gz'\n",
    "\n",
    "\n",
    "class WigFix:\n",
    "\n",
    "    def __init__(self, filename):\n",
    "        self.filename = filename\n",
    "        positions = []\n",
    "        last_position = 0\n",
    "        values = {}\n",
    "\n",
    "        with gzip.open(filename, 'rt') as f:\n",
    "            line = f.readline()\n",
    "            while line != '':\n",
    "                if line.startswith('fixedStep'):\n",
    "                    last_position = int(line.split(' ')[2].split('=')[1])\n",
    "                    values[last_position] = []\n",
    "                    positions.append(last_position)\n",
    "                else:\n",
    "                    values[last_position].append(float(line))\n",
    "                line = f.readline()\n",
    "\n",
    "        values = {k: np.array(v) for k, v in values.items()}\n",
    "        self.positions = positions\n",
    "        self.values = values\n",
    "\n",
    "    def __getitem__(self, item):\n",
    "        position = bisect.bisect_right(self.positions, item)\n",
    "        # The return position from bisect_right is the insert position\n",
    "        # This is 0 for elements < the first that we have, 1 between [<first>, <second>)\n",
    "        # Subtract 1 to get the index where we can start our forward search\n",
    "        if position < 1:\n",
    "            return None\n",
    "        start_position = self.positions[position - 1]\n",
    "        try:\n",
    "            return self.values[start_position][item - start_position]\n",
    "        except IndexError:\n",
    "            return None\n",
    "\n",
    "\n",
    "class ConservationScore:\n",
    "    def __init__(self, folder, file_pattern):\n",
    "        self.folder = folder\n",
    "        self.file_pattern = file_pattern\n",
    "        self.wigfixes = {}\n",
    "\n",
    "    def _load1(self, chromosome):\n",
    "        file_path = os.path.join(self.folder, self.file_pattern.format(chromosome))\n",
    "        self.wigfixes[chromosome] = WigFix(file_path)\n",
    "            \n",
    "    def load(self, chromosomes=None, max_workers=7):\n",
    "        chromosomes = chromosomes or CHROMOSOMES\n",
    "        \n",
    "        with ThreadPoolExecutor(max_workers=min(max_workers, len(chromosomes))) as executor:\n",
    "            futures = {executor.submit(self._load1, chromosome): chromosome\n",
    "                   for chromosome in chromosomes}\n",
    "        for future in as_completed(futures):\n",
    "            print(f'Finished processing chromosome {futures[future]}')\n",
    "\n",
    "    def __getitem__(self, item):\n",
    "        return self.wigfixes[item]"
   ]
  },
  {
   "cell_type": "code",
   "execution_count": 11,
   "metadata": {},
   "outputs": [],
   "source": [
    "p = ConservationScore(\n",
    "    '/media/vineetb/t5-vineetb/dsprint/in/hgdownload/hg19/phastCons100way/hg19.100way.phastCons',\n",
    "    'chr{}.phastCons100way.wigFix.gz'\n",
    ")"
   ]
  },
  {
   "cell_type": "code",
   "execution_count": 12,
   "metadata": {},
   "outputs": [
    {
     "name": "stdout",
     "output_type": "stream",
     "text": [
      "Finished processing chromosome 8\n",
      "Finished processing chromosome 4\n",
      "CPU times: user 3min 7s, sys: 4.38 s, total: 3min 12s\n",
      "Wall time: 3min 5s\n"
     ]
    }
   ],
   "source": [
    "%%time\n",
    "\n",
    "p.load(['4','8'])"
   ]
  },
  {
   "cell_type": "code",
   "execution_count": 13,
   "metadata": {},
   "outputs": [
    {
     "data": {
      "text/plain": [
       "311.33763313293457"
      ]
     },
     "execution_count": 13,
     "metadata": {},
     "output_type": "execute_result"
    }
   ],
   "source": [
    "sum(len(x) for pN in p.wigfixes for x in p[pN].values.values())/1024./1024."
   ]
  },
  {
   "cell_type": "code",
   "execution_count": 15,
   "metadata": {},
   "outputs": [
    {
     "data": {
      "text/plain": [
       "24"
      ]
     },
     "execution_count": 15,
     "metadata": {},
     "output_type": "execute_result"
    }
   ],
   "source": [
    "x = 2.0\n",
    "sys.getsizeof(x)"
   ]
  },
  {
   "cell_type": "code",
   "execution_count": 1,
   "metadata": {},
   "outputs": [],
   "source": [
    "import numpy as np"
   ]
  },
  {
   "cell_type": "code",
   "execution_count": 2,
   "metadata": {},
   "outputs": [],
   "source": [
    "x = np.array([1,2,3,5])"
   ]
  },
  {
   "cell_type": "code",
   "execution_count": 3,
   "metadata": {},
   "outputs": [
    {
     "data": {
      "text/plain": [
       "1"
      ]
     },
     "execution_count": 3,
     "metadata": {},
     "output_type": "execute_result"
    }
   ],
   "source": [
    "x[0]"
   ]
  },
  {
   "cell_type": "code",
   "execution_count": 4,
   "metadata": {},
   "outputs": [
    {
     "data": {
      "text/plain": [
       "2"
      ]
     },
     "execution_count": 4,
     "metadata": {},
     "output_type": "execute_result"
    }
   ],
   "source": [
    "x[1]"
   ]
  },
  {
   "cell_type": "code",
   "execution_count": 6,
   "metadata": {},
   "outputs": [
    {
     "data": {
      "text/plain": [
       "5"
      ]
     },
     "execution_count": 6,
     "metadata": {},
     "output_type": "execute_result"
    }
   ],
   "source": [
    "x[3]"
   ]
  },
  {
   "cell_type": "code",
   "execution_count": 7,
   "metadata": {},
   "outputs": [
    {
     "data": {
      "text/plain": [
       "numpy.ndarray"
      ]
     },
     "execution_count": 7,
     "metadata": {},
     "output_type": "execute_result"
    }
   ],
   "source": [
    "type(x)"
   ]
  },
  {
   "cell_type": "code",
   "execution_count": 14,
   "metadata": {},
   "outputs": [
    {
     "name": "stdout",
     "output_type": "stream",
     "text": [
      "None\n",
      "0.062\n",
      "0.01\n",
      "0.019\n",
      "0.028\n",
      "None\n"
     ]
    }
   ],
   "source": [
    "o = p['4']\n",
    "print(o[10528])\n",
    "print(o[11528])\n",
    "print(o[191041279])\n",
    "print(o[191041280])\n",
    "print(o[191041281])\n",
    "print(o[192041281])"
   ]
  },
  {
   "cell_type": "code",
   "execution_count": null,
   "metadata": {},
   "outputs": [],
   "source": []
  }
 ],
 "metadata": {
  "kernelspec": {
   "display_name": "Python 3",
   "language": "python",
   "name": "python3"
  },
  "language_info": {
   "codemirror_mode": {
    "name": "ipython",
    "version": 3
   },
   "file_extension": ".py",
   "mimetype": "text/x-python",
   "name": "python",
   "nbconvert_exporter": "python",
   "pygments_lexer": "ipython3",
   "version": "3.7.6"
  }
 },
 "nbformat": 4,
 "nbformat_minor": 4
}
